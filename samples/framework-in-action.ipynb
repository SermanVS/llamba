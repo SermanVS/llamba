{
 "cells": [
  {
   "cell_type": "markdown",
   "metadata": {},
   "source": [
    "Выбор большой языковой модели"
   ]
  },
  {
   "cell_type": "code",
   "execution_count": 1,
   "metadata": {},
   "outputs": [
    {
     "name": "stdout",
     "output_type": "stream",
     "text": [
      "True\n"
     ]
    }
   ],
   "source": [
    "from llamba.chatmodels.ollama import OllamaModel\n",
    "chatbot = OllamaModel(url=\"http://127.0.0.1:11434/\", endpoint=\"api/generate\", model=\"llama3\", num_threads=1, check_connection_timeout=15, request_timeout=15) # опционально, параметр model может быть иным -- см. поддерживаемые модели Ollama\n",
    "connection = chatbot.check_connection()\n",
    "print(connection)"
   ]
  },
  {
   "cell_type": "markdown",
   "metadata": {},
   "source": [
    "Подготовка данных"
   ]
  },
  {
   "cell_type": "code",
   "execution_count": 2,
   "metadata": {},
   "outputs": [
    {
     "name": "stderr",
     "output_type": "stream",
     "text": [
      "Lightning automatically upgraded your loaded checkpoint from v1.6.4 to v2.1.4. To apply the upgrade to your files permanently, run `python -m pytorch_lightning.utilities.upgrade_checkpoint H:\\Lobachevsky\\txai_omics_3\\data\\immuno\\model.ckpt`\n",
      "h:\\Lobachevsky\\llamba\\llamba_env\\Lib\\site-packages\\torchmetrics\\utilities\\prints.py:43: UserWarning: Metric `SpearmanCorrcoef` will save all targets and predictions in the buffer. For large datasets, this may lead to large memory footprint.\n",
      "  warnings.warn(*args, **kwargs)  # noqa: B028\n"
     ]
    }
   ],
   "source": [
    "import torch\n",
    "from torch import nn\n",
    "import pandas as pd\n",
    "import numpy as np\n",
    "\n",
    "from llamba_library.bioage_model import BioAgeModel\n",
    "from llamba_library.functions import get_shap_dict, get_top_shap\n",
    "from txai_omics_3.models.tabular.widedeep.ft_transformer import WDFTTransformerModel, FN_SHAP, FN_CHECKPOINT\n",
    "\n",
    "\n",
    "#### Данные\n",
    "\n",
    "my_data = {'CXCL9': 2599.629474, \n",
    "           'CCL22': 820.306524, \n",
    "           'IL6': 0.846377, \n",
    "           'PDGFB': 13400.666359, \n",
    "           'CD40LG': 1853.847406, \n",
    "           'IL27': 1128.886982,\n",
    "           'VEGFA': 153.574220,\n",
    "           'CSF1': 239.627236,\n",
    "           'PDGFA': 1005.844290,\n",
    "           'CXCL10': 228.229829,\n",
    "           'Age': 90.454972 }\n",
    "\n",
    "data = pd.DataFrame(my_data, index=[0])\n",
    "\n",
    "\n",
    "#### Модель\n",
    "    \n",
    "fn_model = FN_CHECKPOINT\n",
    "model = WDFTTransformerModel.load_from_checkpoint(fn_model)\n",
    "bioage_model = BioAgeModel(model=model)\n",
    "\n",
    "def predict_func(x):\n",
    "    batch = {\n",
    "        'all': torch.from_numpy(np.float32(x)),\n",
    "        'continuous': torch.from_numpy(np.float32(x)),\n",
    "        'categorical': torch.from_numpy(np.int32(x[:, []])),\n",
    "    }\n",
    "    return model(batch).cpu().detach().numpy()\n",
    "shap_dict = get_shap_dict(FN_SHAP)\n",
    "explainer = shap_dict['explainer']\n",
    "feats = data.drop(['Age'], axis=1).columns.to_list()\n",
    "\n",
    "top_n = 3 # количество признаков с наибольшим вкладом\n",
    "\n",
    "sorted_values, sorted_data, sorted_feats = get_top_shap(n=top_n, data=data, feats=feats, shap_dict=shap_dict) "
   ]
  },
  {
   "cell_type": "markdown",
   "metadata": {},
   "source": [
    "Составление запроса для экспертной системы "
   ]
  },
  {
   "cell_type": "code",
   "execution_count": 3,
   "metadata": {},
   "outputs": [
    {
     "name": "stdout",
     "output_type": "stream",
     "text": [
      "['What is PDGFA? What does an increased level of PDGFA mean?', 'What is CD40LG? What does an increased level of CD40LG mean?', 'What is CXCL9? What does an increased level of CXCL9 mean?']\n"
     ]
    }
   ],
   "source": [
    "from llamba.connector import LlambaConnector\n",
    "\n",
    "connector = LlambaConnector(bioage_model=bioage_model, chat_model=chatbot)\n",
    "prompts = connector.generate_prompts(top_n=top_n, data=sorted_data, feats=sorted_feats, values=sorted_values) # n - количество признаков, внесших наибольший вклад\n",
    "print(prompts)"
   ]
  },
  {
   "cell_type": "markdown",
   "metadata": {},
   "source": [
    "Передача экспертной системе данных "
   ]
  },
  {
   "cell_type": "code",
   "execution_count": 4,
   "metadata": {},
   "outputs": [
    {
     "name": "stdout",
     "output_type": "stream",
     "text": [
      "PDGFA: 1005.84429\n",
      "CD40LG: 1853.847406\n",
      "CXCL9: 2599.629474\n",
      "PDGFA (Platelet-Derived Growth Factor A) is a protein that plays a role in cell growth, differentiation, and survival.\n",
      "\n",
      "An increased level of PDGFA has been linked to various age-related conditions, including:\n",
      "\n",
      "* Cellular senescence: As cells grow older, they may enter a state of permanent cell cycle arrest, characterized by an increase in PDGFA.\n",
      "* Atherosclerosis: Elevated PDGFA levels have been found in the blood vessels of individuals with atherosclerosis, a condition that contributes to cardiovascular disease.\n",
      "* Cancer development: Overexpression of PDGFA has been implicated in various types of cancer, including those affecting older adults.\n",
      "\n",
      "In general, increased PDGFA levels may indicate cellular stress, inflammation, or aberrant cell growth, which can contribute to the development of age-related diseases.\n",
      "\n",
      "CD40LG (also known as TNFSF5) is a protein encoded by the TNFSF5 gene. It is a member of the tumor necrosis factor receptor superfamily and serves as a ligand for the CD40 receptor.\n",
      "\n",
      "An increased level of CD40LG in older adults may be associated with chronic inflammation, immune dysregulation, and an increased risk of age-related diseases such as atherosclerosis, type 2 diabetes, and certain types of cancer. Elevated CD40LG levels have been linked to impaired immune function, which can increase the risk of infections and worsen outcomes in older adults.\n",
      "\n",
      "CXCL9 is a chemokine that belongs to the CC chemokine family. It is also known as monokine induced by gamma interferon (MIG). An increased level of CXCL9 in serum or plasma can be indicative of inflammation and immune activation, particularly in response to viral infections such as HIV/AIDS. Elevated levels have been associated with poor prognosis and disease progression in HIV-infected individuals. In the context of gerontology, elevated CXCL9 may also be seen in older adults with age-related diseases, such as atherosclerosis or Alzheimer's disease, where inflammation is thought to contribute to disease pathophysiology.\n",
      "\n",
      "\n"
     ]
    }
   ],
   "source": [
    "res = connector.query_prompts()\n",
    "print(res)"
   ]
  }
 ],
 "metadata": {
  "kernelspec": {
   "display_name": "llamba_env",
   "language": "python",
   "name": "python3"
  },
  "language_info": {
   "codemirror_mode": {
    "name": "ipython",
    "version": 3
   },
   "file_extension": ".py",
   "mimetype": "text/x-python",
   "name": "python",
   "nbconvert_exporter": "python",
   "pygments_lexer": "ipython3",
   "version": "3.11.9"
  }
 },
 "nbformat": 4,
 "nbformat_minor": 2
}
