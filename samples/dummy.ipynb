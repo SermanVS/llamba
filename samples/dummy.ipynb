{
 "cells": [
  {
   "cell_type": "code",
   "execution_count": 1,
   "metadata": {},
   "outputs": [],
   "source": [
    "from llamba.chat_model import BaseModel\n",
    "from llamba.bioage_model import BioAgeModel\n",
    "from llamba.connector import Connector\n",
    "import torch\n",
    "from torch import nn\n",
    "import pandas as pd\n",
    "\n",
    "# Prepare a BioAge model\n",
    "class SampleBioAgeModel(nn.Module): pass\n",
    "\n",
    "model = SampleBioAgeModel()\n",
    "bioage_model = BioAgeModel(model)\n",
    "\n",
    "# Prepare a Chatbot model\n",
    "chat_model = BaseModel()\n",
    "connector = Connector(bioage_model=bioage_model, chat_model=chat_model)\n",
    "\n",
    "# Prepare data to analyze\n",
    "features = torch.rand(10, dtype=torch.float32)\n",
    "age = torch.rand(1, dtype=torch.float32)\n",
    "\n",
    "data = pd.DataFrame([{f'Feature_{i}' : features[i] for i in range(10)}])\n",
    "data['Age'] = age\n",
    "\n",
    "connector.analyze(data)"
   ]
  },
  {
   "cell_type": "code",
   "execution_count": null,
   "metadata": {},
   "outputs": [],
   "source": []
  }
 ],
 "metadata": {
  "kernelspec": {
   "display_name": ".venv",
   "language": "python",
   "name": "python3"
  },
  "language_info": {
   "codemirror_mode": {
    "name": "ipython",
    "version": 3
   },
   "file_extension": ".py",
   "mimetype": "text/x-python",
   "name": "python",
   "nbconvert_exporter": "python",
   "pygments_lexer": "ipython3",
   "version": "3.11.9"
  }
 },
 "nbformat": 4,
 "nbformat_minor": 2
}
