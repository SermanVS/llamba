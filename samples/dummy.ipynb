{
 "cells": [
  {
   "cell_type": "markdown",
   "metadata": {},
   "source": [
    "### This is a dummy example to test that the base library modules function as they should"
   ]
  },
  {
   "cell_type": "code",
   "execution_count": 1,
   "metadata": {},
   "outputs": [
    {
     "name": "stdout",
     "output_type": "stream",
     "text": [
      "Your bioage is 9 and your aging acceleration is -16, which means you are ageing slower than normal.\n",
      "\n",
      "\n"
     ]
    }
   ],
   "source": [
    "from llamba.chatmodels.chat_model import AbstractChatModel\n",
    "from llamba_library.bioage_model import BioAgeModel\n",
    "from llamba.connector import LlambaConnector\n",
    "import torch\n",
    "from torch import nn\n",
    "import pandas as pd\n",
    "import numpy as np\n",
    "\n",
    "# Prepare data to analyze\n",
    "num_features = 10\n",
    "features = np.random.randint(low=1, high=150, size=num_features).astype(np.float32)\n",
    "age =  np.random.randint(low=10, high=90)\n",
    "\n",
    "data = pd.DataFrame([{f'Feature_{i}' : features[i] for i in range(num_features)}])\n",
    "data['Age'] = age\n",
    "\n",
    "# Prepare a BioAge model\n",
    "class DummyBioAgeModel(nn.Module): \n",
    "    def __init__(self): \n",
    "        super(DummyBioAgeModel, self).__init__()\n",
    "        self.linear1 = torch.nn.Linear(10, 1)\n",
    "\n",
    "    def forward(self, x):\n",
    "        x = self.linear1(x)\n",
    "        return abs(x)\n",
    "\n",
    "model = DummyBioAgeModel()\n",
    "bioage_model = BioAgeModel(model)\n",
    "\n",
    "# Prepare a Chatbot model\n",
    "class DummyChatModel(AbstractChatModel): pass\n",
    "chat_model = DummyChatModel()\n",
    "connector = LlambaConnector(bioage_model=bioage_model, chat_model=chat_model)\n",
    "\n",
    "res = connector.analyze(data)\n",
    "print(res['analysis'])"
   ]
  }
 ],
 "metadata": {
  "kernelspec": {
   "display_name": "llamba_env",
   "language": "python",
   "name": "python3"
  },
  "language_info": {
   "codemirror_mode": {
    "name": "ipython",
    "version": 3
   },
   "file_extension": ".py",
   "mimetype": "text/x-python",
   "name": "python",
   "nbconvert_exporter": "python",
   "pygments_lexer": "ipython3",
   "version": "3.11.9"
  }
 },
 "nbformat": 4,
 "nbformat_minor": 2
}
