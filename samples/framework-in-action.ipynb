{
 "cells": [
  {
   "cell_type": "markdown",
   "metadata": {},
   "source": [
    "Выбор большой языковой модели"
   ]
  },
  {
   "cell_type": "code",
   "execution_count": 1,
   "metadata": {},
   "outputs": [
    {
     "name": "stdout",
     "output_type": "stream",
     "text": [
      "True\n"
     ]
    }
   ],
   "source": [
    "from llamba.chatmodels.ollama import OllamaModel\n",
    "chatbot = OllamaModel(url=\"http://127.0.0.1:11434/\", endpoint=\"api/generate\", model=\"llama3\", num_threads=1, check_connection_timeout=15, request_timeout=15) # опционально, параметр model может быть иным -- см. поддерживаемые модели Ollama\n",
    "connection = chatbot.check_connection()\n",
    "print(connection)"
   ]
  },
  {
   "cell_type": "markdown",
   "metadata": {},
   "source": [
    "Подготовка данных"
   ]
  },
  {
   "cell_type": "code",
   "execution_count": 2,
   "metadata": {},
   "outputs": [
    {
     "name": "stderr",
     "output_type": "stream",
     "text": [
      "Lightning automatically upgraded your loaded checkpoint from v1.6.4 to v2.1.4. To apply the upgrade to your files permanently, run `python -m pytorch_lightning.utilities.upgrade_checkpoint H:\\Lobachevsky\\txai_omics_3\\data\\immuno\\model.ckpt`\n",
      "h:\\Lobachevsky\\llamba\\llamba_env\\Lib\\site-packages\\torchmetrics\\utilities\\prints.py:43: UserWarning: Metric `SpearmanCorrcoef` will save all targets and predictions in the buffer. For large datasets, this may lead to large memory footprint.\n",
      "  warnings.warn(*args, **kwargs)  # noqa: B028\n"
     ]
    }
   ],
   "source": [
    "import torch\n",
    "from torch import nn\n",
    "import pandas as pd\n",
    "import numpy as np\n",
    "\n",
    "from llamba_library.bioage_model import BioAgeModel\n",
    "from llamba_library.functions import get_shap_dict, get_top_shap\n",
    "from txai_omics_3.models.tabular.widedeep.ft_transformer import WDFTTransformerModel, FN_SHAP, FN_CHECKPOINT\n",
    "\n",
    "\n",
    "#### Данные\n",
    "\n",
    "my_data = {'CXCL9': 2599.629474, \n",
    "           'CCL22': 820.306524, \n",
    "           'IL6': 0.846377, \n",
    "           'PDGFB': 13400.666359, \n",
    "           'CD40LG': 1853.847406, \n",
    "           'IL27': 1128.886982,\n",
    "           'VEGFA': 153.574220,\n",
    "           'CSF1': 239.627236,\n",
    "           'PDGFA': 1005.844290,\n",
    "           'CXCL10': 228.229829,\n",
    "           'Age': 90.454972 }\n",
    "\n",
    "data = pd.DataFrame(my_data, index=[0])\n",
    "\n",
    "\n",
    "#### Модель\n",
    "    \n",
    "fn_model = FN_CHECKPOINT\n",
    "model = WDFTTransformerModel.load_from_checkpoint(fn_model)\n",
    "bioage_model = BioAgeModel(model=model)\n",
    "\n",
    "def predict_func(x):\n",
    "    batch = {\n",
    "        'all': torch.from_numpy(np.float32(x)),\n",
    "        'continuous': torch.from_numpy(np.float32(x)),\n",
    "        'categorical': torch.from_numpy(np.int32(x[:, []])),\n",
    "    }\n",
    "    return model(batch).cpu().detach().numpy()\n",
    "shap_dict = get_shap_dict(FN_SHAP)\n",
    "explainer = shap_dict['explainer']\n",
    "feats = data.drop(['Age'], axis=1).columns.to_list()\n",
    "\n",
    "top_n = 3 # количество признаков с наибольшим вкладом\n",
    "\n",
    "sorted_values, sorted_data, sorted_feats = get_top_shap(n=top_n, data=data, feats=feats, shap_dict=shap_dict) "
   ]
  },
  {
   "cell_type": "markdown",
   "metadata": {},
   "source": [
    "Составление запроса для экспертной системы "
   ]
  },
  {
   "cell_type": "code",
   "execution_count": 3,
   "metadata": {},
   "outputs": [
    {
     "name": "stdout",
     "output_type": "stream",
     "text": [
      "Prompts: \n",
      "What is PDGFA? What does an increased level of PDGFA mean?\n",
      "What is CD40LG? What does an increased level of CD40LG mean?\n",
      "What is CXCL9? What does an increased level of CXCL9 mean?\n"
     ]
    }
   ],
   "source": [
    "from llamba.connector import LlambaConnector\n",
    "\n",
    "connector = LlambaConnector(bioage_model=bioage_model, chat_model=chatbot)\n",
    "prompts = connector.generate_prompts(top_n=top_n, data=sorted_data, feats=sorted_feats, values=sorted_values) # n - количество признаков, внесших наибольший вклад\n",
    "print(\"Prompts: \")\n",
    "for prompt in prompts:\n",
    "    print(prompt)"
   ]
  },
  {
   "cell_type": "markdown",
   "metadata": {},
   "source": [
    "Передача экспертной системе данных "
   ]
  },
  {
   "cell_type": "code",
   "execution_count": 4,
   "metadata": {},
   "outputs": [
    {
     "name": "stdout",
     "output_type": "stream",
     "text": [
      "Analysis: \n",
      "\n",
      "PDGFA: 1005.84429\n",
      "CD40LG: 1853.847406\n",
      "CXCL9: 2599.629474\n",
      "PDGFA (Platelet-Derived Growth Factor Alpha) is a protein involved in cell growth, differentiation, and migration. In the context of gerontology, elevated levels of PDGFA have been linked to various age-related disorders, including:\n",
      "\n",
      "* Age-related cognitive decline\n",
      "* Neurodegenerative diseases such as Alzheimer's disease and Parkinson's disease\n",
      "* Cancer development and progression\n",
      "\n",
      "Increased levels of PDGFA can indicate a higher risk for these conditions. Elevated PDGFA has also been associated with cellular senescence, oxidative stress, and inflammation, all of which are thought to contribute to the aging process.\n",
      "\n",
      "CD40LG, also known as CD154 or TNFSF5, is a transmembrane protein that belongs to the tumor necrosis factor receptor superfamily. It plays a crucial role in cell signaling and immune response.\n",
      "\n",
      "An increased level of CD40LG has been associated with various age-related diseases, such as atherosclerosis, type 2 diabetes, and certain types of cancer. Elevated CD40LG levels may indicate an overactive immune response or chronic inflammation, which are common characteristics of many age-related disorders.\n",
      "\n",
      "In the context of gerontology, increased CD40LG levels might be indicative of an accelerated aging process, possibly driven by factors such as cellular senescence, oxidative stress, or telomere shortening. Further research is needed to fully understand the relationship between CD40LG and aging.\n",
      "\n",
      "CXCL9 is a chemokine, specifically a CXC-type, which is involved in the regulation of inflammation and immune responses. It is also known as monokine induced by gamma interferon (MIG). \n",
      "\n",
      "An increased level of CXCL9 in the blood or tissues can indicate an ongoing inflammatory process, possibly related to various conditions such as autoimmune disorders, infections, or cancer. Elevated levels have been associated with increased disease activity and severity in conditions like multiple sclerosis, rheumatoid arthritis, and psoriasis. In cancer, high CXCL9 levels may reflect tumor-induced inflammation and potentially predict poor prognosis.\n",
      "\n",
      "\n"
     ]
    }
   ],
   "source": [
    "res = connector.query_prompts()\n",
    "print(\"Analysis: \\n\")\n",
    "print(res)"
   ]
  }
 ],
 "metadata": {
  "kernelspec": {
   "display_name": "llamba_env",
   "language": "python",
   "name": "python3"
  },
  "language_info": {
   "codemirror_mode": {
    "name": "ipython",
    "version": 3
   },
   "file_extension": ".py",
   "mimetype": "text/x-python",
   "name": "python",
   "nbconvert_exporter": "python",
   "pygments_lexer": "ipython3",
   "version": "3.11.9"
  }
 },
 "nbformat": 4,
 "nbformat_minor": 2
}
