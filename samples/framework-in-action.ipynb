{
 "cells": [
  {
   "cell_type": "markdown",
   "metadata": {},
   "source": [
    "Выбор большой языковой модели"
   ]
  },
  {
   "cell_type": "code",
   "execution_count": 1,
   "metadata": {},
   "outputs": [
    {
     "name": "stdout",
     "output_type": "stream",
     "text": [
      "True\n"
     ]
    }
   ],
   "source": [
    "from llamba.chatmodels.ollama import OllamaModel\n",
    "chatbot = OllamaModel(url=\"http://127.0.0.1:11434/\", \n",
    "                      endpoint=\"api/generate\", \n",
    "                      model=\"llama3\", \n",
    "                      num_threads=1, \n",
    "                      check_connection_timeout=15, \n",
    "                      request_timeout=15) # опционально, параметр model может быть иным -- см. поддерживаемые модели Ollama\n",
    "connection = chatbot.check_connection()\n",
    "print(connection)"
   ]
  },
  {
   "cell_type": "markdown",
   "metadata": {},
   "source": [
    "Подготовка данных"
   ]
  },
  {
   "cell_type": "code",
   "execution_count": 2,
   "metadata": {},
   "outputs": [
    {
     "name": "stderr",
     "output_type": "stream",
     "text": [
      "h:\\Lobachevsky\\llamba\\llamba_env\\Lib\\site-packages\\pytorch_lightning\\utilities\\migration\\utils.py:55: The loaded checkpoint was produced with Lightning v2.4.0, which is newer than your current Lightning version: v2.1.4\n",
      "h:\\Lobachevsky\\llamba\\llamba_env\\Lib\\site-packages\\torchmetrics\\utilities\\prints.py:43: UserWarning: Metric `SpearmanCorrcoef` will save all targets and predictions in the buffer. For large datasets, this may lead to large memory footprint.\n",
      "  warnings.warn(*args, **kwargs)  # noqa: B028\n"
     ]
    }
   ],
   "source": [
    "import torch\n",
    "from torch import nn\n",
    "import pandas as pd\n",
    "import numpy as np\n",
    "\n",
    "from llamba_library.bioage_model import BioAgeModel\n",
    "from llamba_library.functions import get_shap_dict\n",
    "from txai_omics_3.models.tabular.widedeep.ft_transformer import WDFTTransformerModel, FN_SHAP, FN_CHECKPOINT\n",
    "\n",
    "\n",
    "#### Данные\n",
    "\n",
    "my_data = {'CXCL9': 2599.629474, \n",
    "           'CCL22': 820.306524, \n",
    "           'IL6': 0.846377, \n",
    "           'PDGFB': 13400.666359, \n",
    "           'CD40LG': 1853.847406, \n",
    "           'IL27': 1128.886982,\n",
    "           'VEGFA': 153.574220,\n",
    "           'CSF1': 239.627236,\n",
    "           'PDGFA': 1005.844290,\n",
    "           'CXCL10': 228.229829,\n",
    "           'Age': 90.454972 }\n",
    "\n",
    "data = pd.DataFrame(my_data, index=[0])\n",
    "\n",
    "\n",
    "#### Модель\n",
    "    \n",
    "fn_model = FN_CHECKPOINT\n",
    "model = WDFTTransformerModel.load_from_checkpoint(fn_model)\n",
    "bioage_model = BioAgeModel(model=model)\n",
    "\n",
    "def predict_func(x):\n",
    "    batch = {\n",
    "        'all': torch.from_numpy(np.float32(x)),\n",
    "        'continuous': torch.from_numpy(np.float32(x)),\n",
    "        'categorical': torch.from_numpy(np.int32(x[:, []])),\n",
    "    }\n",
    "    return model(batch).cpu().detach().numpy()\n",
    "shap_dict = get_shap_dict(FN_SHAP)\n",
    "explainer = shap_dict['explainer']\n",
    "feats = data.drop(['Age'], axis=1).columns.to_list()\n",
    "\n",
    "top_n = 3 # количество признаков с наибольшим вкладом\n",
    "\n",
    "top_shap = bioage_model.get_top_shap(top_n, data, feats, shap_dict) "
   ]
  },
  {
   "cell_type": "markdown",
   "metadata": {},
   "source": [
    "Составление запроса для экспертной системы "
   ]
  },
  {
   "cell_type": "code",
   "execution_count": 3,
   "metadata": {},
   "outputs": [
    {
     "name": "stdout",
     "output_type": "stream",
     "text": [
      "Prompts: \n",
      "What is PDGFB? What does an increased level of PDGFB mean?\n",
      "What is CD40LG? What does an increased level of CD40LG mean?\n",
      "What is CXCL9? What does an increased level of CXCL9 mean?\n"
     ]
    }
   ],
   "source": [
    "from llamba.connector import LlambaConnector\n",
    "\n",
    "connector = LlambaConnector(bioage_model=bioage_model, chat_model=chatbot)\n",
    "prompts = connector.generate_prompts(top_n=top_n, \n",
    "                                     data=top_shap['data'], \n",
    "                                     feats=top_shap['feats'], \n",
    "                                     values=top_shap['values']) # n - количество признаков, внесших наибольший вклад\n",
    "print(\"Prompts: \")\n",
    "for prompt in prompts:\n",
    "    print(prompt)"
   ]
  },
  {
   "cell_type": "markdown",
   "metadata": {},
   "source": [
    "Передача экспертной системе данных "
   ]
  },
  {
   "cell_type": "code",
   "execution_count": 4,
   "metadata": {},
   "outputs": [
    {
     "name": "stdout",
     "output_type": "stream",
     "text": [
      "Analysis: \n",
      "\n",
      "PDGFB: 13400.666359\n",
      "CD40LG: 1853.847406\n",
      "CXCL9: 2599.629474\n",
      "PDGFB stands for Platelet-derived growth factor beta. It is a type of protein that plays a role in cell signaling and is involved in various cellular processes, including proliferation, differentiation, and survival.\n",
      "\n",
      "An increased level of PDGFB has been associated with several age-related diseases and conditions, including atherosclerosis, hypertension, and cardiovascular disease. Elevated levels of PDGFB may also be indicative of certain types of cancer, such as melanoma and glioblastoma.\n",
      "\n",
      "In the context of aging, increased levels of PDGFB have been linked to age-related changes in the vasculature, including vessel wall thickening and stiffening. This can contribute to reduced blood flow and oxygen delivery to tissues, which may exacerbate age-related declines in physical function and cognitive impairment.\n",
      "\n",
      "CD40LG (also known as TNFSF5) is a type I transmembrane glycoprotein that belongs to the tumor necrosis factor (TNF) superfamily. It is primarily expressed on activated T cells, B cells, and other immune cells.\n",
      "\n",
      "An increased level of CD40LG in older adults may indicate an ongoing immune response or chronic inflammation, which can be associated with various age-related diseases such as atherosclerosis, Alzheimer's disease, or cancer. Elevated CD40LG levels have also been linked to frailty, sarcopenia, and decreased muscle mass in older adults.\n",
      "\n",
      "CXCL9 (Chemokine C-X-C motif ligand 9) is a pro-inflammatory chemokine that plays a role in recruiting immune cells to sites of inflammation and tissue damage. Elevated levels of CXCL9 have been observed in various diseases, including chronic obstructive pulmonary disease (COPD), idiopathic pulmonary fibrosis (IPF), and cancer.\n",
      "\n",
      "An increased level of CXCL9 typically indicates an active inflammatory response or tissue damage, which can be a hallmark of age-related diseases such as sarcopenia, osteoporosis, and frailty. In the context of gerontology, elevated CXCL9 may reflect premature aging and contribute to the development of age-related disorders.\n",
      "\n",
      "\n"
     ]
    }
   ],
   "source": [
    "res = connector.query_prompts()\n",
    "print(\"Analysis: \\n\")\n",
    "print(res)"
   ]
  }
 ],
 "metadata": {
  "kernelspec": {
   "display_name": "llamba_env",
   "language": "python",
   "name": "python3"
  },
  "language_info": {
   "codemirror_mode": {
    "name": "ipython",
    "version": 3
   },
   "file_extension": ".py",
   "mimetype": "text/x-python",
   "name": "python",
   "nbconvert_exporter": "python",
   "pygments_lexer": "ipython3",
   "version": "3.11.9"
  }
 },
 "nbformat": 4,
 "nbformat_minor": 2
}
