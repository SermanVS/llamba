{
 "cells": [
  {
   "cell_type": "markdown",
   "metadata": {},
   "source": [
    "Выбор большой языковой модели"
   ]
  },
  {
   "cell_type": "code",
   "execution_count": 1,
   "metadata": {},
   "outputs": [
    {
     "name": "stdout",
     "output_type": "stream",
     "text": [
      "True\n"
     ]
    }
   ],
   "source": [
    "from llamba.chatmodels.ollama import OllamaModel\n",
    "chatbot = OllamaModel(url=\"http://127.0.0.1:11434/\", endpoint=\"api/generate\", model=\"llama3\", num_threads=1, check_connection_timeout=15, request_timeout=15) # опционально, параметр model может быть иным -- см. поддерживаемые модели Ollama\n",
    "connection = chatbot.check_connection()\n",
    "print(connection)"
   ]
  },
  {
   "cell_type": "markdown",
   "metadata": {},
   "source": [
    "Подготовка данных"
   ]
  },
  {
   "cell_type": "code",
   "execution_count": 6,
   "metadata": {},
   "outputs": [
    {
     "name": "stderr",
     "output_type": "stream",
     "text": [
      "Lightning automatically upgraded your loaded checkpoint from v1.6.4 to v2.1.4. To apply the upgrade to your files permanently, run `python -m pytorch_lightning.utilities.upgrade_checkpoint H:\\Lobachevsky\\txai_omics_3\\data\\immuno\\model.ckpt`\n",
      "h:\\Lobachevsky\\llamba\\llamba_env\\Lib\\site-packages\\torchmetrics\\utilities\\prints.py:43: UserWarning: Metric `SpearmanCorrcoef` will save all targets and predictions in the buffer. For large datasets, this may lead to large memory footprint.\n",
      "  warnings.warn(*args, **kwargs)  # noqa: B028\n"
     ]
    }
   ],
   "source": [
    "import torch\n",
    "from torch import nn\n",
    "import pandas as pd\n",
    "import numpy as np\n",
    "\n",
    "from llamba_library.bioage_model import BioAgeModel\n",
    "from llamba_library.functions import get_shap_dict, get_top_shap\n",
    "from txai_omics_3.models.tabular.widedeep.ft_transformer import WDFTTransformerModel, FN_SHAP, FN_CHECKPOINT\n",
    "\n",
    "\n",
    "#### Данные\n",
    "\n",
    "my_data = {'CXCL9': 2599.629474, \n",
    "           'CCL22': 820.306524, \n",
    "           'IL6': 0.846377, \n",
    "           'PDGFB': 13400.666359, \n",
    "           'CD40LG': 1853.847406, \n",
    "           'IL27': 1128.886982,\n",
    "           'VEGFA': 153.574220,\n",
    "           'CSF1': 239.627236,\n",
    "           'PDGFA': 1005.844290,\n",
    "           'CXCL10': 228.229829,\n",
    "           'Age': 90.454972 }\n",
    "\n",
    "data = pd.DataFrame(my_data, index=[0])\n",
    "\n",
    "\n",
    "#### Модель\n",
    "    \n",
    "fn_model = FN_CHECKPOINT\n",
    "model = WDFTTransformerModel.load_from_checkpoint(fn_model)\n",
    "bioage_model = BioAgeModel(model=model)\n",
    "\n",
    "def predict_func(x):\n",
    "    batch = {\n",
    "        'all': torch.from_numpy(np.float32(x)),\n",
    "        'continuous': torch.from_numpy(np.float32(x)),\n",
    "        'categorical': torch.from_numpy(np.int32(x[:, []])),\n",
    "    }\n",
    "    return model(batch).cpu().detach().numpy()\n",
    "shap_dict = get_shap_dict(FN_SHAP)\n",
    "explainer = shap_dict['explainer']\n",
    "feats = data.drop(['Age'], axis=1).columns.to_list()\n",
    "\n",
    "top_n = 5 # количество признаков с наибольшим вкладом\n",
    "\n",
    "sorted_values, sorted_data, sorted_feats = get_top_shap(n=top_n, data=data, feats=feats, shap_dict=shap_dict) "
   ]
  },
  {
   "cell_type": "markdown",
   "metadata": {},
   "source": [
    "Составление запроса для экспертной системы "
   ]
  },
  {
   "cell_type": "code",
   "execution_count": 7,
   "metadata": {},
   "outputs": [
    {
     "name": "stdout",
     "output_type": "stream",
     "text": [
      "['What is IL27? What does an increased level of IL27 mean?', 'What is PDGFA? What does an increased level of PDGFA mean?', 'What is PDGFB? What does an increased level of PDGFB mean?', 'What is CD40LG? What does an increased level of CD40LG mean?', 'What is CXCL9? What does an increased level of CXCL9 mean?']\n"
     ]
    }
   ],
   "source": [
    "from llamba.connector import LlambaConnector\n",
    "\n",
    "connector = LlambaConnector(bioage_model=bioage_model, chat_model=chatbot)\n",
    "prompts = connector.generate_prompts(top_n=top_n, data=sorted_data, feats=sorted_feats, values=sorted_values) # n - количество признаков, внесших наибольший вклад\n",
    "print(prompts)"
   ]
  },
  {
   "cell_type": "markdown",
   "metadata": {},
   "source": [
    "Передача экспертной системе данных "
   ]
  },
  {
   "cell_type": "code",
   "execution_count": 8,
   "metadata": {},
   "outputs": [
    {
     "name": "stdout",
     "output_type": "stream",
     "text": [
      "IL27: 1128.886982\n",
      "PDGFA: 1005.84429\n",
      "PDGFB: 13400.666359\n",
      "CD40LG: 1853.847406\n",
      "CXCL9: 2599.629474\n",
      "IL-27 is a type 1 cytokine that belongs to the IL-12 family. It is primarily produced by dendritic cells, macrophages, and T cells. An increased level of IL-27 in older adults has been linked to various age-related conditions, including:\n",
      "\n",
      "* Inflammaging: Chronic low-grade inflammation associated with aging\n",
      "* Immune senescence: Decline in immune function with advancing age\n",
      "* Increased risk of certain diseases, such as cancer, atherosclerosis, and autoimmune disorders\n",
      "\n",
      "High levels of IL-27 may also contribute to the development of frailty, which is characterized by a decline in physiological reserve and increased vulnerability to stressors.\n",
      "\n",
      "PDGFA stands for Platelet-Derived Growth Factor A. It is a protein that plays a crucial role in cell growth, proliferation, and differentiation.\n",
      "\n",
      "An increased level of PDGFA has been associated with various age-related disorders, including:\n",
      "\n",
      "* Osteoarthritis: Elevated PDGFA levels have been linked to cartilage degeneration and bone remodeling.\n",
      "* Alzheimer's disease: Higher PDGFA levels may contribute to neuroinflammation and neuronal loss.\n",
      "* Cancer: Overexpression of PDGFA has been observed in various types of cancer, including breast, lung, and colon cancer.\n",
      "\n",
      "In older adults, increased PDGFA levels have also been linked to age-related changes in the skin, such as wrinkles and senescence. Furthermore, PDGFA may play a role in the pathogenesis of age-related diseases, such as sarcopenia (muscle wasting) and frailty.\n",
      "\n",
      "PDGFB stands for Platelet-Derived Growth Factor Beta. It is a protein involved in cellular proliferation, migration, and differentiation. In older adults, elevated levels of PDGFB have been associated with various age-related diseases, including atherosclerosis, hypertension, and dementia. An increased level of PDGFB may indicate an imbalance in the body's homeostasis, potentially contributing to the development or progression of these conditions.\n",
      "\n",
      "CD40LG (CD40 ligand) is a receptor protein that plays a crucial role in immune system function. It is primarily involved in B cell activation and proliferation.\n",
      "\n",
      "An increased level of CD40LG in older adults has been linked to various age-related conditions, including:\n",
      "\n",
      "1. Increased risk of autoimmune disorders\n",
      "2. Higher levels of circulating B cells, potentially leading to immunosenescence\n",
      "3. Impaired T-cell function and reduced immune response\n",
      "\n",
      "In gerontological contexts, elevated CD40LG expression may be a biomarker for immune dysregulation in older adults, potentially contributing to increased susceptibility to infections and cancer.\n",
      "\n",
      "CXCL9 is a chemokine that belongs to the CXC (alpha) subfamily. It is also known as monokine induced by gamma interferon (MIG). An increased level of CXCL9 in the blood or other bodily fluids typically indicates an inflammatory response, particularly in conditions such as autoimmune diseases like rheumatoid arthritis, multiple sclerosis, and lupus. In gerontological context, elevated CXCL9 levels may also be observed in elderly individuals with age-related disorders, including atherosclerosis, osteoarthritis, and Alzheimer's disease.\n",
      "\n",
      "\n"
     ]
    }
   ],
   "source": [
    "res = connector.query_prompts()\n",
    "print(res)"
   ]
  }
 ],
 "metadata": {
  "kernelspec": {
   "display_name": "llamba_env",
   "language": "python",
   "name": "python3"
  },
  "language_info": {
   "codemirror_mode": {
    "name": "ipython",
    "version": 3
   },
   "file_extension": ".py",
   "mimetype": "text/x-python",
   "name": "python",
   "nbconvert_exporter": "python",
   "pygments_lexer": "ipython3",
   "version": "3.11.9"
  }
 },
 "nbformat": 4,
 "nbformat_minor": 2
}
