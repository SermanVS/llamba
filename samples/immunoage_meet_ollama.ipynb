{
 "cells": [
  {
   "cell_type": "markdown",
   "metadata": {},
   "source": [
    "This example assumes that you have an [Ollama](https://github.com/ollama/ollama) model running (with `ollama serve`) on some host that is reachable (whether a `localhost` of your computer or some other host with a public IP).\n",
    "As a predictor, we use [txai_omics_3](https://github.com/SermanVS/txai_omics_3)."
   ]
  },
  {
   "cell_type": "code",
   "execution_count": 1,
   "metadata": {},
   "outputs": [],
   "source": [
    "from llamba.chatmodels.ollama import OllamaModel"
   ]
  },
  {
   "cell_type": "code",
   "execution_count": 2,
   "metadata": {},
   "outputs": [
    {
     "name": "stdout",
     "output_type": "stream",
     "text": [
      "True\n"
     ]
    }
   ],
   "source": [
    "chatbot = OllamaModel(url=\"http://127.0.0.1:11434/\", endpoint=\"api/generate\", model=\"llama3\", num_threads=1, check_connection_timeout=15, request_timeout=15)\n",
    "connection = chatbot.check_connection()\n",
    "print(connection)"
   ]
  },
  {
   "cell_type": "markdown",
   "metadata": {},
   "source": [
    "### Get a bioage model"
   ]
  },
  {
   "cell_type": "code",
   "execution_count": 3,
   "metadata": {},
   "outputs": [
    {
     "name": "stderr",
     "output_type": "stream",
     "text": [
      "h:\\Lobachevsky\\llamba\\llamba_env\\Lib\\site-packages\\pytorch_lightning\\utilities\\migration\\utils.py:55: The loaded checkpoint was produced with Lightning v2.4.0, which is newer than your current Lightning version: v2.1.4\n",
      "h:\\Lobachevsky\\llamba\\llamba_env\\Lib\\site-packages\\torchmetrics\\utilities\\prints.py:43: UserWarning: Metric `SpearmanCorrcoef` will save all targets and predictions in the buffer. For large datasets, this may lead to large memory footprint.\n",
      "  warnings.warn(*args, **kwargs)  # noqa: B028\n"
     ]
    }
   ],
   "source": [
    "from pathlib import Path\n",
    "import os\n",
    "import shap\n",
    "import numpy as np\n",
    "import pickle\n",
    "import torch\n",
    "from txai_omics_3.models.tabular.widedeep.ft_transformer import WDFTTransformerModel, FN_CHECKPOINT, FN_SHAP, TRAIN_DATA_PATH\n",
    "from llamba_library.bioage_model import BioAgeModel\n",
    "\n",
    "# Model\n",
    "fn_model = FN_CHECKPOINT\n",
    "model = WDFTTransformerModel.load_from_checkpoint(checkpoint_path=fn_model)\n",
    "bioage_model = BioAgeModel(model=model)\n",
    "\n",
    "# SHAP\n",
    "fn_shap = FN_SHAP\n",
    "\n",
    "def predict_func(x):\n",
    "    batch = {\n",
    "        'all': torch.from_numpy(np.float32(x)),\n",
    "        'continuous': torch.from_numpy(np.float32(x)),\n",
    "        'categorical': torch.from_numpy(np.int32(x[:, []])),\n",
    "    }\n",
    "    return model(batch).cpu().detach().numpy()\n",
    "with open(fn_shap, 'rb') as handle:\n",
    "    shap_dict = pickle.load(handle)"
   ]
  },
  {
   "cell_type": "markdown",
   "metadata": {},
   "source": [
    "### Load data"
   ]
  },
  {
   "cell_type": "code",
   "execution_count": 4,
   "metadata": {},
   "outputs": [],
   "source": [
    "import pandas as pd\n",
    "\n",
    "my_data = {'CXCL9': 2599.629474, \n",
    "           'CCL22': 820.306524, \n",
    "           'IL6': 0.846377, \n",
    "           'PDGFB': 13400.666359, \n",
    "           'CD40LG': 1853.847406, \n",
    "           'IL27': 1128.886982,\n",
    "           'VEGFA': 153.574220,\n",
    "           'CSF1': 239.627236,\n",
    "           'PDGFA': 1005.844290,\n",
    "           'CXCL10': 228.229829,\n",
    "           'Age': 90.454972 }\n",
    "\n",
    "my_df = pd.DataFrame(my_data, index=[0])\n",
    "\n",
    "# Model data\n",
    "\n",
    "train_data = pd.read_excel(TRAIN_DATA_PATH)"
   ]
  },
  {
   "cell_type": "markdown",
   "metadata": {},
   "source": [
    "### Initialize a connector"
   ]
  },
  {
   "cell_type": "code",
   "execution_count": 5,
   "metadata": {},
   "outputs": [],
   "source": [
    "from llamba.connector import LlambaConnector\n",
    "\n",
    "connector = LlambaConnector(bioage_model=bioage_model, chat_model=chatbot)"
   ]
  },
  {
   "cell_type": "markdown",
   "metadata": {},
   "source": [
    "### Run an analysis task"
   ]
  },
  {
   "cell_type": "code",
   "execution_count": 6,
   "metadata": {},
   "outputs": [
    {
     "name": "stdout",
     "output_type": "stream",
     "text": [
      "Your bioage is 79 and your aging acceleration is -11, which means you are ageing slower than normal.\n",
      "\n",
      "Here is some more information about your data. \n",
      "\n",
      "PDGFA: 1005.84429\n",
      "CD40LG: 1853.847406\n",
      "CXCL9: 2599.629474\n",
      "PDGFA stands for Platelet-Derived Growth Factor Alpha. It is a growth factor that plays a crucial role in cell proliferation, differentiation, and migration.\n",
      "\n",
      "An increased level of PDGFA has been linked to various age-related diseases, including osteoarthritis, Alzheimer's disease, and cancer. In the context of aging, elevated PDGFA levels may contribute to cellular senescence, inflammation, and tissue fibrosis, ultimately leading to functional decline and age-related disorders.\n",
      "\n",
      "CD40LG (CD154) is a protein also known as TNFSF5, which is a member of the tumor necrosis factor receptor superfamily. It is primarily expressed on T cells and plays a crucial role in T cell activation and differentiation.\n",
      "\n",
      "An increased level of CD40LG has been associated with an elevated risk of age-related diseases such as atherosclerosis, osteoporosis, and cancer. Elevated CD40LG levels can also indicate a higher risk of immune-related disorders like autoimmune diseases or immunosenescence, which is the decline of immune function that occurs with aging.\n",
      "\n",
      "CXCL9, also known as monokine induced by interferon-gamma (MIG), is a chemokine involved in inflammation and immune response. In older adults, elevated levels of CXCL9 have been associated with age-related diseases such as osteoporosis, Alzheimer's disease, and atherosclerosis. An increased level of CXCL9 may indicate chronic low-grade inflammation, which is a common feature of aging. Elevated CXCL9 has also been linked to frailty, sarcopenia, and decreased physical function in older adults.\n",
      "\n",
      "\n"
     ]
    }
   ],
   "source": [
    "res = connector.analyze(data=my_df, shap_dict=shap_dict, top_n=3)\n",
    "print(res['analysis'])"
   ]
  }
 ],
 "metadata": {
  "kernelspec": {
   "display_name": "llamba_env",
   "language": "python",
   "name": "python3"
  },
  "language_info": {
   "codemirror_mode": {
    "name": "ipython",
    "version": 3
   },
   "file_extension": ".py",
   "mimetype": "text/x-python",
   "name": "python",
   "nbconvert_exporter": "python",
   "pygments_lexer": "ipython3",
   "version": "3.11.9"
  }
 },
 "nbformat": 4,
 "nbformat_minor": 2
}
