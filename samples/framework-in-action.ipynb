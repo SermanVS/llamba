{
 "cells": [
  {
   "cell_type": "markdown",
   "metadata": {},
   "source": [
    "Выбор большой языковой модели"
   ]
  },
  {
   "cell_type": "code",
   "execution_count": 1,
   "metadata": {},
   "outputs": [
    {
     "name": "stdout",
     "output_type": "stream",
     "text": [
      "True\n"
     ]
    }
   ],
   "source": [
    "from llamba.chatmodels.ollama import OllamaModel\n",
    "chatbot = OllamaModel(url=\"http://127.0.0.1:11434/\", \n",
    "                      endpoint=\"api/generate\", \n",
    "                      model=\"llama3\", \n",
    "                      num_threads=1, \n",
    "                      check_connection_timeout=15, \n",
    "                      request_timeout=15)\n",
    "connection = chatbot.check_connection()\n",
    "print(connection)"
   ]
  },
  {
   "cell_type": "markdown",
   "metadata": {},
   "source": [
    "Подготовка данных"
   ]
  },
  {
   "cell_type": "code",
   "execution_count": 2,
   "metadata": {},
   "outputs": [
    {
     "name": "stderr",
     "output_type": "stream",
     "text": [
      "h:\\Lobachevsky\\llamba\\llamba_env\\Lib\\site-packages\\pytorch_lightning\\utilities\\migration\\utils.py:55: The loaded checkpoint was produced with Lightning v2.4.0, which is newer than your current Lightning version: v2.1.4\n",
      "h:\\Lobachevsky\\llamba\\llamba_env\\Lib\\site-packages\\torchmetrics\\utilities\\prints.py:43: UserWarning: Metric `SpearmanCorrcoef` will save all targets and predictions in the buffer. For large datasets, this may lead to large memory footprint.\n",
      "  warnings.warn(*args, **kwargs)  # noqa: B028\n"
     ]
    }
   ],
   "source": [
    "import torch\n",
    "from torch import nn\n",
    "import pandas as pd\n",
    "import numpy as np\n",
    "\n",
    "from llamba_library.bioage_model import BioAgeModel\n",
    "from llamba_library.functions import get_shap_dict\n",
    "from txai_omics_3.models.tabular.widedeep.ft_transformer \\\n",
    "    import WDFTTransformerModel, FN_SHAP, FN_CHECKPOINT\n",
    "\n",
    "\n",
    "#### Данные\n",
    "\n",
    "my_data = {'CXCL9': 2599.629474, \n",
    "           'CCL22': 820.306524, \n",
    "           'IL6': 0.846377, \n",
    "           'PDGFB': 13400.666359, \n",
    "           'CD40LG': 1853.847406, \n",
    "           'IL27': 1128.886982,\n",
    "           'VEGFA': 153.574220,\n",
    "           'CSF1': 239.627236,\n",
    "           'PDGFA': 1005.844290,\n",
    "           'CXCL10': 228.229829,\n",
    "           'Age': 90.454972 }\n",
    "\n",
    "data = pd.DataFrame(my_data, index=[0])\n",
    "\n",
    "\n",
    "#### Модель\n",
    "    \n",
    "fn_model = FN_CHECKPOINT\n",
    "model = WDFTTransformerModel.load_from_checkpoint(fn_model)\n",
    "bioage_model = BioAgeModel(model=model)\n",
    "\n",
    "def predict_func(x):\n",
    "    batch = {\n",
    "        'all': torch.from_numpy(np.float32(x)),\n",
    "        'continuous': torch.from_numpy(np.float32(x)),\n",
    "        'categorical': torch.from_numpy(np.int32(x[:, []])),\n",
    "    }\n",
    "    return model(batch).cpu().detach().numpy()\n",
    "shap_dict = get_shap_dict(FN_SHAP)\n",
    "explainer = shap_dict['explainer']\n",
    "feats = data.drop(['Age'], axis=1).columns.to_list()\n",
    "\n",
    "top_n = 3 # количество признаков с наибольшим вкладом\n",
    "\n",
    "top_shap = bioage_model.get_top_shap(top_n, data, feats, shap_dict) "
   ]
  },
  {
   "cell_type": "markdown",
   "metadata": {},
   "source": [
    "Составление запроса для экспертной системы "
   ]
  },
  {
   "cell_type": "code",
   "execution_count": 3,
   "metadata": {},
   "outputs": [
    {
     "name": "stdout",
     "output_type": "stream",
     "text": [
      "Prompts: \n",
      "What is PDGFB? What does an increased level of PDGFB mean?\n",
      "What is CD40LG? What does an increased level of CD40LG mean?\n",
      "What is CXCL9? What does an increased level of CXCL9 mean?\n"
     ]
    }
   ],
   "source": [
    "from llamba.connector import LlambaConnector\n",
    "\n",
    "connector = LlambaConnector(bioage_model=bioage_model, chat_model=chatbot)\n",
    "prompts = connector.generate_prompts(top_n=top_n, \n",
    "                                     data=top_shap['data'], \n",
    "                                     feats=top_shap['feats'], \n",
    "                                     values=top_shap['values'])\n",
    "print(\"Prompts: \")\n",
    "for prompt in prompts:\n",
    "    print(prompt)"
   ]
  },
  {
   "cell_type": "markdown",
   "metadata": {},
   "source": [
    "Передача экспертной системе данных "
   ]
  },
  {
   "cell_type": "code",
   "execution_count": 4,
   "metadata": {},
   "outputs": [
    {
     "name": "stdout",
     "output_type": "stream",
     "text": [
      "Analysis: \n",
      "\n",
      "PDGFB: 13400.666359\n",
      "CD40LG: 1853.847406\n",
      "CXCL9: 2599.629474\n",
      "PDGFB stands for platelet-derived growth factor-B. It's a protein involved in cell proliferation, migration, and differentiation, particularly during embryonic development and wound healing.\n",
      "\n",
      "An increased level of PDGFB has been observed in various age-related disorders, including age-related macular degeneration, atherosclerosis, and Alzheimer's disease. Elevated levels may contribute to cellular senescence, inflammation, and tissue fibrosis, which can accelerate aging processes and increase the risk of age-related diseases.\n",
      "\n",
      "CD40LG, also known as TNFSF5 or TR6, is a protein encoded by the CD40LG gene. It is a ligand for the receptor CD40, which plays a key role in the activation and differentiation of immune cells.\n",
      "\n",
      "An increased level of CD40LG can be indicative of an active immune response, particularly in older adults. Elevated levels have been associated with various age-related diseases, including Alzheimer's disease, Parkinson's disease, and autoimmune disorders such as rheumatoid arthritis. In some cases, high CD40LG levels may also be seen in response to chronic infections or cancer.\n",
      "\n",
      "CXCL9, also known as Monokine induced by Gamma Interferon (MIG), is a chemokine involved in immune response and inflammation. Increased levels of CXCL9 have been associated with various conditions, including:\n",
      "\n",
      "* Chronic obstructive pulmonary disease (COPD)\n",
      "* Asthma\n",
      "* Pneumonia\n",
      "* Inflammatory bowel disease (IBD)\n",
      "* Atherosclerosis\n",
      "* Cancer\n",
      "\n",
      "An elevated CXCL9 level may indicate a heightened immune response and an increased risk of chronic diseases. In older adults, higher CXCL9 levels have been linked to age-related diseases such as sarcopenia, osteoporosis, and frailty.\n",
      "\n",
      "\n"
     ]
    }
   ],
   "source": [
    "res = connector.query_prompts()\n",
    "print(\"Analysis: \\n\")\n",
    "print(res)"
   ]
  },
  {
   "cell_type": "code",
   "execution_count": null,
   "metadata": {},
   "outputs": [],
   "source": []
  }
 ],
 "metadata": {
  "kernelspec": {
   "display_name": "llamba_env",
   "language": "python",
   "name": "python3"
  },
  "language_info": {
   "codemirror_mode": {
    "name": "ipython",
    "version": 3
   },
   "file_extension": ".py",
   "mimetype": "text/x-python",
   "name": "python",
   "nbconvert_exporter": "python",
   "pygments_lexer": "ipython3",
   "version": "3.11.9"
  }
 },
 "nbformat": 4,
 "nbformat_minor": 2
}
